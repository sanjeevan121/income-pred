{
 "cells": [
  {
   "cell_type": "code",
   "execution_count": 69,
   "metadata": {},
   "outputs": [],
   "source": [
    "import os\n",
    "import pandas as pd\n",
    "import json"
   ]
  },
  {
   "cell_type": "code",
   "execution_count": 2,
   "metadata": {},
   "outputs": [],
   "source": [
    "df=pd.read_csv('train.csv')"
   ]
  },
  {
   "cell_type": "code",
   "execution_count": 4,
   "metadata": {},
   "outputs": [],
   "source": [
    "df.describe().loc[[\"min\", \"max\"]].to_json(\"schema_in.json\")"
   ]
  },
  {
   "cell_type": "code",
   "execution_count": 27,
   "metadata": {},
   "outputs": [
    {
     "data": {
      "text/html": [
       "<div>\n",
       "<style scoped>\n",
       "    .dataframe tbody tr th:only-of-type {\n",
       "        vertical-align: middle;\n",
       "    }\n",
       "\n",
       "    .dataframe tbody tr th {\n",
       "        vertical-align: top;\n",
       "    }\n",
       "\n",
       "    .dataframe thead th {\n",
       "        text-align: right;\n",
       "    }\n",
       "</style>\n",
       "<table border=\"1\" class=\"dataframe\">\n",
       "  <thead>\n",
       "    <tr style=\"text-align: right;\">\n",
       "      <th></th>\n",
       "      <th>age</th>\n",
       "      <th>workclass</th>\n",
       "      <th>fnlwgt</th>\n",
       "      <th>education</th>\n",
       "      <th>education-num</th>\n",
       "      <th>marital-status</th>\n",
       "      <th>occupation</th>\n",
       "      <th>relationship</th>\n",
       "      <th>race</th>\n",
       "      <th>sex</th>\n",
       "      <th>capital-gain</th>\n",
       "      <th>capital-loss</th>\n",
       "      <th>hours-per-week</th>\n",
       "      <th>country</th>\n",
       "      <th>salary</th>\n",
       "    </tr>\n",
       "  </thead>\n",
       "  <tbody>\n",
       "    <tr>\n",
       "      <th>0</th>\n",
       "      <td>39</td>\n",
       "      <td>State-gov</td>\n",
       "      <td>77516</td>\n",
       "      <td>Bachelors</td>\n",
       "      <td>13</td>\n",
       "      <td>Never-married</td>\n",
       "      <td>Adm-clerical</td>\n",
       "      <td>Not-in-family</td>\n",
       "      <td>White</td>\n",
       "      <td>Male</td>\n",
       "      <td>2174</td>\n",
       "      <td>0</td>\n",
       "      <td>40</td>\n",
       "      <td>United-States</td>\n",
       "      <td>&lt;=50K</td>\n",
       "    </tr>\n",
       "    <tr>\n",
       "      <th>1</th>\n",
       "      <td>50</td>\n",
       "      <td>Self-emp-not-inc</td>\n",
       "      <td>83311</td>\n",
       "      <td>Bachelors</td>\n",
       "      <td>13</td>\n",
       "      <td>Married-civ-spouse</td>\n",
       "      <td>Exec-managerial</td>\n",
       "      <td>Husband</td>\n",
       "      <td>White</td>\n",
       "      <td>Male</td>\n",
       "      <td>0</td>\n",
       "      <td>0</td>\n",
       "      <td>13</td>\n",
       "      <td>United-States</td>\n",
       "      <td>&lt;=50K</td>\n",
       "    </tr>\n",
       "    <tr>\n",
       "      <th>2</th>\n",
       "      <td>38</td>\n",
       "      <td>Private</td>\n",
       "      <td>215646</td>\n",
       "      <td>HS-grad</td>\n",
       "      <td>9</td>\n",
       "      <td>Divorced</td>\n",
       "      <td>Handlers-cleaners</td>\n",
       "      <td>Not-in-family</td>\n",
       "      <td>White</td>\n",
       "      <td>Male</td>\n",
       "      <td>0</td>\n",
       "      <td>0</td>\n",
       "      <td>40</td>\n",
       "      <td>United-States</td>\n",
       "      <td>&lt;=50K</td>\n",
       "    </tr>\n",
       "    <tr>\n",
       "      <th>3</th>\n",
       "      <td>53</td>\n",
       "      <td>Private</td>\n",
       "      <td>234721</td>\n",
       "      <td>11th</td>\n",
       "      <td>7</td>\n",
       "      <td>Married-civ-spouse</td>\n",
       "      <td>Handlers-cleaners</td>\n",
       "      <td>Husband</td>\n",
       "      <td>Black</td>\n",
       "      <td>Male</td>\n",
       "      <td>0</td>\n",
       "      <td>0</td>\n",
       "      <td>40</td>\n",
       "      <td>United-States</td>\n",
       "      <td>&lt;=50K</td>\n",
       "    </tr>\n",
       "    <tr>\n",
       "      <th>4</th>\n",
       "      <td>28</td>\n",
       "      <td>Private</td>\n",
       "      <td>338409</td>\n",
       "      <td>Bachelors</td>\n",
       "      <td>13</td>\n",
       "      <td>Married-civ-spouse</td>\n",
       "      <td>Prof-specialty</td>\n",
       "      <td>Wife</td>\n",
       "      <td>Black</td>\n",
       "      <td>Female</td>\n",
       "      <td>0</td>\n",
       "      <td>0</td>\n",
       "      <td>40</td>\n",
       "      <td>Cuba</td>\n",
       "      <td>&lt;=50K</td>\n",
       "    </tr>\n",
       "  </tbody>\n",
       "</table>\n",
       "</div>"
      ],
      "text/plain": [
       "   age          workclass  fnlwgt   education  education-num  \\\n",
       "0   39          State-gov   77516   Bachelors             13   \n",
       "1   50   Self-emp-not-inc   83311   Bachelors             13   \n",
       "2   38            Private  215646     HS-grad              9   \n",
       "3   53            Private  234721        11th              7   \n",
       "4   28            Private  338409   Bachelors             13   \n",
       "\n",
       "        marital-status          occupation    relationship    race      sex  \\\n",
       "0        Never-married        Adm-clerical   Not-in-family   White     Male   \n",
       "1   Married-civ-spouse     Exec-managerial         Husband   White     Male   \n",
       "2             Divorced   Handlers-cleaners   Not-in-family   White     Male   \n",
       "3   Married-civ-spouse   Handlers-cleaners         Husband   Black     Male   \n",
       "4   Married-civ-spouse      Prof-specialty            Wife   Black   Female   \n",
       "\n",
       "   capital-gain  capital-loss  hours-per-week         country  salary  \n",
       "0          2174             0              40   United-States   <=50K  \n",
       "1             0             0              13   United-States   <=50K  \n",
       "2             0             0              40   United-States   <=50K  \n",
       "3             0             0              40   United-States   <=50K  \n",
       "4             0             0              40            Cuba   <=50K  "
      ]
     },
     "execution_count": 27,
     "metadata": {},
     "output_type": "execute_result"
    }
   ],
   "source": [
    "df.head()"
   ]
  },
  {
   "cell_type": "code",
   "execution_count": 47,
   "metadata": {},
   "outputs": [],
   "source": [
    "schema_num={}\n",
    "schema_cat={}\n",
    "#num_list=['age','fnlwgt','education-num','capital-gain','capital-loss','hours-per-week']\n",
    "#cat_list=['workclass','education','marital-status','occupation','relationship','race','sex','country']\n",
    "for i in range(len(df.columns)):\n",
    "    while(i< 6):\n",
    "        num_list=['age','fnlwgt','education-num','capital-gain','capital-loss','hours-per-week']\n",
    "        for i in range(len(num_list)):\n",
    "        #print(\"'\"+i+\"'\")\n",
    "            schema_num[num_list[i]]=type(df[num_list[i]][0])\n",
    "        else:\n",
    "            break\n",
    "    while(i>=6):\n",
    "        cat_list=['workclass','education','marital-status','occupation','relationship','race','sex','country']\n",
    "        for i in range(len(cat_list)):\n",
    "        #print(\"'\"+i+\"'\")\n",
    "            schema_cat[cat_list[i]]=type(df[cat_list[i]][0])\n",
    "        else:\n",
    "            break\n",
    "    #df.columns.to_dict()"
   ]
  },
  {
   "cell_type": "code",
   "execution_count": 44,
   "metadata": {},
   "outputs": [],
   "source": [
    "schema_num={}\n",
    "num_list=['age','fnlwgt','education-num','capital-gain','capital-loss','hours-per-week']\n",
    "for i in range(len(num_list)):\n",
    "    #print(\"'\"+i+\"'\")\n",
    "    schema_num[num_list[i]]=type(df[num_list[i]][0])\n",
    "    #schema_num[num_list[i]]=type(df[num_list[i]][0])\n",
    "#else:"
   ]
  },
  {
   "cell_type": "code",
   "execution_count": 66,
   "metadata": {},
   "outputs": [
    {
     "data": {
      "text/plain": [
       " Husband           13193\n",
       " Not-in-family      8305\n",
       " Own-child          5068\n",
       " Unmarried          3446\n",
       " Wife               1568\n",
       " Other-relative      981\n",
       "Name: relationship, dtype: int64"
      ]
     },
     "execution_count": 66,
     "metadata": {},
     "output_type": "execute_result"
    }
   ],
   "source": [
    "df['relationship'].value_counts()"
   ]
  },
  {
   "cell_type": "code",
   "execution_count": null,
   "metadata": {},
   "outputs": [],
   "source": [
    "df['workclass'].value_counts()"
   ]
  },
  {
   "cell_type": "code",
   "execution_count": null,
   "metadata": {},
   "outputs": [],
   "source": [
    "{'age': 5,\n",
    " 'fnlwgt': 5,\n",
    " 'education-num': 5,\n",
    " 'capital-gain': 5,\n",
    " 'capital-loss': 5,\n",
    " 'hours-per-week': 5\n",
    " 'workclass': \"some_string\",\n",
    " 'education': \"some_string\",\n",
    " 'marital-status': \"some_string\",\n",
    " 'occupation': \"some_string\",\n",
    " 'relationship': \"some_string\",\n",
    " 'race': \"some_string\",\n",
    " 'sex': \"some_string\",\n",
    " 'country': \"some_string\"\n",
    "}"
   ]
  },
  {
   "cell_type": "code",
   "execution_count": 109,
   "metadata": {},
   "outputs": [],
   "source": [
    "data= {'age': ['5'], 'fnlwgt': ['5'], 'education-num': ['5'], 'capital-gain': ['5'], 'capital-loss': ['5'], 'hours-per-week': ['5'], 'sex': ['Male'], 'workclass': [' State-gov'], 'education': [' Bachelors'], 'marital-status': [' Never-married'], 'occupation': [' Adm-clerical'], 'relationship': [' Not-in-family'], 'race': [' White'], 'country': [' United-States']}"
   ]
  },
  {
   "cell_type": "code",
   "execution_count": 110,
   "metadata": {},
   "outputs": [],
   "source": [
    "df=pd.DataFrame(data)"
   ]
  },
  {
   "cell_type": "code",
   "execution_count": 119,
   "metadata": {},
   "outputs": [],
   "source": [
    "intcols=['age','fnlwgt','education-num','capital-gain','capital-loss','hours-per-week']\n",
    "df[intcols] = df[intcols].apply(pd.to_numeric)"
   ]
  },
  {
   "cell_type": "code",
   "execution_count": 132,
   "metadata": {},
   "outputs": [],
   "source": [
    "\n",
    "def map_workclass(df):\n",
    "    workclass_mapper = {\n",
    "    ' State-gov': \"other\",\n",
    "    ' Self-emp-not-inc': \"other\",\n",
    "    ' Federal-gov': \"other\",\n",
    "    ' Local-gov': \"other\",\n",
    "    ' ?': \"other\",\n",
    "    ' Self-emp-inc': \"other\",\n",
    "    ' Without-pay': \"other\",\n",
    "    ' Never-worked': \"other\"\n",
    "    }\n",
    "    df[\"workclass\"] = df.workclass.map(workclass_mapper).fillna(df[\"workclass\"])\n",
    "    return df\n",
    "    \n",
    "def map_education(df):\n",
    "    education_mapper ={' 11th': 'other',\n",
    "    ' Masters': 'other',\n",
    "    ' 9th': 'other',\n",
    "    ' Assoc-acdm': 'other',\n",
    "    ' Assoc-voc': 'other',\n",
    "    ' 7th-8th': 'other',\n",
    "    ' Doctorate': 'other',\n",
    "    ' Prof-school': 'other',\n",
    "    ' 5th-6th': 'other',\n",
    "    ' 10th': 'other',\n",
    "    ' 1st-4th': 'other',\n",
    "    ' Preschool': 'other',\n",
    "    ' 12th': 'other'}\n",
    "\n",
    "    df['education'] = df['education'].map(education_mapper).fillna(df['education'])\n",
    "    return df\n",
    "    \n",
    "def map_marital_status(df):\n",
    "    marital_status_mapper = {' Divorced': 'other',\n",
    "   ' Married-spouse-absent': 'other',\n",
    "   ' Separated': 'other',\n",
    "   ' Married-AF-spouse': 'other',\n",
    "   ' Widowed': 'other'}\n",
    "\n",
    "    df['marital-status'] = df['marital-status'].map(marital_status_mapper).fillna(df['marital-status'])\n",
    "    return df\n",
    "\n",
    "def map_occupation(df):\n",
    "    occupation_mapper = {\n",
    "    ' ?': 'Prof-specialty',\n",
    "    ' Protective-serv': 'other',\n",
    "    ' Armed-Forces': 'other',\n",
    "    ' Priv-house-serv': 'other',\n",
    "    ' Tech-support': 'other',\n",
    "    ' Farming-fishing': 'other',\n",
    "    ' Handlers-cleaners': 'other'\n",
    "    }\n",
    "\n",
    "    df['occupation'] = df['occupation'].map(occupation_mapper).fillna(df[\"occupation\"])\n",
    "    return df\n",
    "\n",
    "\n",
    "def encode_categories(data):\n",
    "   \n",
    "    encoder_file=\"transformers/baseN_encoder.pkl\"\n",
    "    df=pd.DataFrame(data)\n",
    "\n",
    "    map_workclass(df)\n",
    "    map_education(df)\n",
    "    map_marital_status(df)\n",
    "    map_occupation(df)\n",
    "    data_categorical=df[['workclass','education','marital-status','occupation','relationship','race','sex','country']]\n",
    "\n",
    "\n",
    "    base_n=loaded_model = pickle.load(open(encoder_file, 'rb'))\n",
    "    data_categorical=pd.DataFrame(base_n.transform(data_categorical))\n",
    "\n",
    "    return data_categorical\n",
    "data_cat=encode_categories(df)\n",
    "\n",
    "\n",
    "def scale_data(df):\n",
    "    \n",
    "    scaler_file=\"transformers/standard_scaler.pkl\"\n",
    "    data_numerical=df[['age','education-num','capital-gain','capital-loss','hours-per-week']]\n",
    "    sc=pickle.load(open(scaler_file, 'rb'))\n",
    "    data_numerical=pd.DataFrame(sc.transform(data_numerical))\n",
    "\n",
    "    return data_numerical\n",
    "\n",
    "data_num=scale_data(df)\n",
    "clean_data=np.c_[data_num,data_cat]\n",
    "\n",
    "loaded_model = joblib.load(\"saved_models/model.joblib\")\n",
    "if loaded_model.predict(clean_data)[0]==0:\n",
    "    return 'income less than $50000'\n",
    "else:\n",
    "    return 'income more than $50000'\n",
    "\n"
   ]
  },
  {
   "cell_type": "code",
   "execution_count": 140,
   "metadata": {},
   "outputs": [],
   "source": [
    "import joblib\n",
    "def predict_from_web(dict_req):\n",
    "    df=pd.DataFrame(dict_req)\n",
    "    intcols=['age','fnlwgt','education-num','capital-gain','capital-loss','hours-per-week']\n",
    "    df[intcols] = df[intcols].apply(pd.to_numeric)\n",
    "    data_cat=encode_categories(df)\n",
    "    dat_num=scale_data(df)\n",
    "    clean_data=np.c_[data_num,data_cat]\n",
    "    loaded_model = joblib.load(\"model.joblib\")\n",
    "    if loaded_model.predict(clean_data)[0]==0:\n",
    "        return 'income less than $50000'\n",
    "    else:\n",
    "        return 'income more than $50000'\n",
    "    "
   ]
  },
  {
   "cell_type": "code",
   "execution_count": 141,
   "metadata": {},
   "outputs": [
    {
     "name": "stderr",
     "output_type": "stream",
     "text": [
      "/home/sanjeevan/anaconda3/lib/python3.8/site-packages/sklearn/base.py:310: UserWarning: Trying to unpickle estimator SVC from version 0.24.1 when using version 0.24.0. This might lead to breaking code or invalid results. Use at your own risk.\n",
      "  warnings.warn(\n"
     ]
    },
    {
     "data": {
      "text/plain": [
       "'income less than $50000'"
      ]
     },
     "execution_count": 141,
     "metadata": {},
     "output_type": "execute_result"
    }
   ],
   "source": [
    "predict_from_web({'age': ['5'], 'fnlwgt': ['5'], 'education-num': ['5'], 'capital-gain': ['5'], 'capital-loss': ['5'], 'hours-per-week': ['5'], 'sex': ['Male'], 'workclass': [' State-gov'], 'education': [' Bachelors'], 'marital-status': [' Never-married'], 'occupation': [' Adm-clerical'], 'relationship': [' Not-in-family'], 'race': [' White'], 'country': [' United-States']})"
   ]
  },
  {
   "cell_type": "code",
   "execution_count": null,
   "metadata": {},
   "outputs": [],
   "source": []
  }
 ],
 "metadata": {
  "kernelspec": {
   "display_name": "Python 3",
   "language": "python",
   "name": "python3"
  },
  "language_info": {
   "codemirror_mode": {
    "name": "ipython",
    "version": 3
   },
   "file_extension": ".py",
   "mimetype": "text/x-python",
   "name": "python",
   "nbconvert_exporter": "python",
   "pygments_lexer": "ipython3",
   "version": "3.8.5"
  }
 },
 "nbformat": 4,
 "nbformat_minor": 4
}
